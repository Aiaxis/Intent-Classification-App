{
  "nbformat": 4,
  "nbformat_minor": 0,
  "metadata": {
    "colab": {
      "provenance": []
    },
    "kernelspec": {
      "name": "python3",
      "display_name": "Python 3"
    },
    "language_info": {
      "name": "python"
    }
  },
  "cells": [
    {
      "cell_type": "code",
      "source": [
        "!pip install -U scikit-learn"
      ],
      "metadata": {
        "colab": {
          "base_uri": "https://localhost:8080/"
        },
        "id": "QfX29Oco5Ish",
        "outputId": "7880c74d-2769-43fd-b444-8370d118e295"
      },
      "execution_count": null,
      "outputs": [
        {
          "output_type": "stream",
          "name": "stdout",
          "text": [
            "Requirement already satisfied: scikit-learn in /usr/local/lib/python3.10/dist-packages (1.4.2)\n",
            "Requirement already satisfied: numpy>=1.19.5 in /usr/local/lib/python3.10/dist-packages (from scikit-learn) (1.25.2)\n",
            "Requirement already satisfied: scipy>=1.6.0 in /usr/local/lib/python3.10/dist-packages (from scikit-learn) (1.11.4)\n",
            "Requirement already satisfied: joblib>=1.2.0 in /usr/local/lib/python3.10/dist-packages (from scikit-learn) (1.4.0)\n",
            "Requirement already satisfied: threadpoolctl>=2.0.0 in /usr/local/lib/python3.10/dist-packages (from scikit-learn) (3.5.0)\n"
          ]
        }
      ]
    },
    {
      "cell_type": "code",
      "execution_count": null,
      "metadata": {
        "colab": {
          "base_uri": "https://localhost:8080/"
        },
        "id": "OxY_sjEG44oW",
        "outputId": "c45943e1-02fb-4d83-c4cd-b8122a6a7860"
      },
      "outputs": [
        {
          "output_type": "stream",
          "name": "stdout",
          "text": [
            "              precision    recall  f1-score   support\n",
            "\n",
            "    Farewell       1.00      0.56      0.71        27\n",
            "       Greet       0.50      0.65      0.56        17\n",
            "     Inquiry       0.65      1.00      0.79        13\n",
            "\n",
            "    accuracy                           0.68        57\n",
            "   macro avg       0.72      0.73      0.69        57\n",
            "weighted avg       0.77      0.68      0.69        57\n",
            "\n"
          ]
        }
      ],
      "source": [
        "import pandas as pd\n",
        "from sklearn.model_selection import train_test_split\n",
        "from sklearn.feature_extraction.text import TfidfVectorizer\n",
        "from sklearn.svm import SVC\n",
        "from sklearn.pipeline import make_pipeline\n",
        "from sklearn.metrics import classification_report\n",
        "\n",
        "# Load the dataset\n",
        "df = pd.read_csv('intent_dataset.csv')\n",
        "\n",
        "# Split the dataset into training and testing sets\n",
        "X_train, X_test, y_train, y_test = train_test_split(df['Text'], df['Intent'], test_size=0.2, random_state=42)\n",
        "\n",
        "# Create a pipeline with a text vectorizer and a support vector classifier\n",
        "model = make_pipeline(TfidfVectorizer(), SVC(probability=True))\n",
        "\n",
        "# Train the model\n",
        "model.fit(X_train, y_train)\n",
        "\n",
        "# Evaluate the model\n",
        "predictions = model.predict(X_test)\n",
        "print(classification_report(y_test, predictions))\n"
      ]
    },
    {
      "cell_type": "code",
      "source": [
        "def classify_intent(text, model, threshold=0.7):\n",
        "    # Predict the probability distribution over the classes\n",
        "    probs = model.predict_proba([text])[0]\n",
        "    # Get the maximum probability and its corresponding class\n",
        "    confidence = max(probs)\n",
        "    intent = model.classes_[probs.argmax()]\n",
        "\n",
        "    # Check if the confidence meets the threshold\n",
        "    if confidence < threshold:\n",
        "        return \"NLU fallback: Intent could not be confidently determined\"\n",
        "    else:\n",
        "        return f\"Intent: {intent}, Confidence: {confidence:.2f}\"\n"
      ],
      "metadata": {
        "id": "6CG1cx3v5gE6"
      },
      "execution_count": null,
      "outputs": []
    },
    {
      "cell_type": "code",
      "source": [
        "test_texts = [\n",
        "    \"Hello, how are you?\",\n",
        "    \"I need to find the nearest gas station.\",\n",
        "    \"Goodbye, see you tomorrow!\",\n",
        "    \"What is the time?\",\n",
        "    \"Could you help me with the directions?\"\n",
        "]\n",
        "\n",
        "for text in test_texts:\n",
        "    result = classify_intent(text, model)\n",
        "    print(f\"Input: '{text}' - Output: {result}\")\n"
      ],
      "metadata": {
        "id": "coAb6anW5x4t",
        "outputId": "dfac4020-b1b3-4b54-f094-bc6b61562005",
        "colab": {
          "base_uri": "https://localhost:8080/"
        }
      },
      "execution_count": null,
      "outputs": [
        {
          "output_type": "stream",
          "name": "stdout",
          "text": [
            "Input: 'Hello, how are you?' - Output: Intent: Greet, Confidence: 1.00\n",
            "Input: 'I need to find the nearest gas station.' - Output: Intent: Inquiry, Confidence: 0.82\n",
            "Input: 'Goodbye, see you tomorrow!' - Output: Intent: Farewell, Confidence: 1.00\n",
            "Input: 'What is the time?' - Output: Intent: Inquiry, Confidence: 1.00\n",
            "Input: 'Could you help me with the directions?' - Output: Intent: Inquiry, Confidence: 0.73\n"
          ]
        }
      ]
    },
    {
      "cell_type": "code",
      "source": [
        "from joblib import dump\n",
        "\n",
        "# Save the model to disk\n",
        "dump(model, 'trained_intent_classifier.joblib')\n"
      ],
      "metadata": {
        "colab": {
          "base_uri": "https://localhost:8080/"
        },
        "id": "XW-fbGwK_wDr",
        "outputId": "c6078c73-6798-4170-d741-80bef2e70a86"
      },
      "execution_count": 5,
      "outputs": [
        {
          "output_type": "execute_result",
          "data": {
            "text/plain": [
              "['trained_intent_classifier.joblib']"
            ]
          },
          "metadata": {},
          "execution_count": 5
        }
      ]
    },
    {
      "cell_type": "code",
      "source": [
        "from joblib import load\n",
        "\n",
        "# Load the model from disk\n",
        "model = load('trained_intent_classifier.joblib')\n",
        "\n",
        "# Example usage\n",
        "result = classify_intent(\"Hello, how are you?\", model)\n",
        "print(result)\n"
      ],
      "metadata": {
        "colab": {
          "base_uri": "https://localhost:8080/"
        },
        "id": "TLW75V9x_wbk",
        "outputId": "1c32337c-eb9b-4e34-e47e-2d1a906feef8"
      },
      "execution_count": 6,
      "outputs": [
        {
          "output_type": "stream",
          "name": "stdout",
          "text": [
            "Intent: Greet, Confidence: 1.00\n"
          ]
        }
      ]
    },
    {
      "cell_type": "code",
      "source": [],
      "metadata": {
        "id": "6-n-TkEv_z5g"
      },
      "execution_count": null,
      "outputs": []
    }
  ]
}